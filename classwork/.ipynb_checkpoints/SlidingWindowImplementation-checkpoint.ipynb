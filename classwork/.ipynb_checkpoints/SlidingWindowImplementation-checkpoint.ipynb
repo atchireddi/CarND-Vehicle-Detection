{
 "cells": [
  {
   "cell_type": "code",
   "execution_count": null,
   "metadata": {
    "collapsed": true
   },
   "outputs": [],
   "source": [
    "\n",
    "import numpy as np\n",
    "import cv2\n",
    "import matplotlib.pyplot as plt\n",
    "import matplotlib.image as mping\n",
    "\n"
   ]
  },
  {
   "cell_type": "code",
   "execution_count": null,
   "metadata": {
    "collapsed": true
   },
   "outputs": [],
   "source": [
    "\n",
    "# Function to draw boxes given image and box co-ordinates\n",
    "# Box co-ordinates are list(ll vertex, ur vertex) of tuples as (x,y)\n",
    "def draw_boxes(img, bboxes, color=(0,0,255), thick=5):\n",
    "    \n",
    "    # make a copy of image\n",
    "    imcopy = img.copy()\n",
    "    \n",
    "    # Iterate through bounding boxes\n",
    "    for bbox in bboxes:\n",
    "        # Draw rectangle give bbox coordinates\n",
    "        cv2.rectangle(imcopy, bbox[0], bbox[1], color, thick)\n",
    "    \n",
    "    # Return the image copy with boxes drawn\n",
    "    return(imcopy)\n",
    "\n",
    "\n",
    "\n",
    "# Define a function that takes an image,\n",
    "# start and stop positions in both x and y,\n",
    "# window size (x and y dimensions),\n",
    "# and overlap fraction (for both x and y)\n",
    "def slide_window(img, x_start_stop=[None, None], y_start_stop=[None, None],\n",
    "                xy_window=(64,64), xy_overlap=(0.5, 0.5)):\n",
    "    # If x and/or y start/stop positions not defined, set to image size\n",
    "    if x_start_stop[0] == None:\n",
    "        x_start_stop[0] = 0\n",
    "    if x_start_stop[1] == None:\n",
    "        x_start_stop[1] = img.shape[1]\n",
    "    if y_start_stop[0] == None:\n",
    "        y_start_stop[0] = 0\n",
    "    if y_start_stop[1] == None:\n",
    "        y_start_stop[1] = img.shape[0]\n",
    "    \n",
    "    # Compute x/y step size\n",
    "    x_step = np.int(xy_window[0]*(1 - xy_overlap[0]))\n",
    "    y_step = np.int(xy_window[1]*(1 - xy_overlap[1]))\n",
    "    \n",
    "    window_list = []  # Initialize list to append window positions\n",
    "    # Loop over Y\n",
    "    y_start = y_start_stop[0]\n",
    "    while(y_start+xy_window[1] <= y_start_stop[1]):\n",
    "        # Loop over x\n",
    "        x_start = x_start_stop[0]\n",
    "        while(x_start+xy_window[0] <= x_start_stop[1]):\n",
    "            # Append window position to list\n",
    "            window_list.append(((x_start, y_start),\n",
    "                                (x_start+xy_window[0], y_start+xy_window[1])))\n",
    "            x_start += x_step      # incement x_start by x-step\n",
    "        y_start += y_step          # increment y_start  by y-step\n",
    "        x_start = x_start_stop[0]  # reset x_start\n",
    "    # Return the list of windows\n",
    "    return window_list\n",
    "\n",
    "\n"
   ]
  },
  {
   "cell_type": "code",
   "execution_count": null,
   "metadata": {
    "collapsed": true
   },
   "outputs": [],
   "source": [
    "\n",
    "windows = slide_window(image, x_start_stop=[None, None], y_start_stop=[None, None],\n",
    "                      xy_window=(128,128), xy_overlap(0.5, 0.5))\n",
    "\n",
    "window_img = draw_boxes(image, windows, color=(0, 0, 255), thick=6)\n",
    "plt.imshow(window_img)\n"
   ]
  },
  {
   "cell_type": "code",
   "execution_count": 2,
   "metadata": {
    "collapsed": false
   },
   "outputs": [
    {
     "name": "stdout",
     "output_type": "stream",
     "text": [
      "[(1, 6), (1, 7), (1, 8), (2, 6), (2, 7), (2, 8), (3, 6), (3, 7), (3, 8)]\n"
     ]
    }
   ],
   "source": [
    "import itertools\n",
    "\n",
    "x = [1,2,3]\n",
    "y = [6,7,8]\n",
    "\n",
    "lst = []\n",
    "\n",
    "for i in itertools.product(x,y):\n",
    "    lst.append(i)\n",
    "\n",
    "print(lst)"
   ]
  },
  {
   "cell_type": "code",
   "execution_count": null,
   "metadata": {
    "collapsed": true
   },
   "outputs": [],
   "source": []
  }
 ],
 "metadata": {
  "anaconda-cloud": {},
  "kernelspec": {
   "display_name": "Python [default]",
   "language": "python",
   "name": "python3"
  },
  "language_info": {
   "codemirror_mode": {
    "name": "ipython",
    "version": 3
   },
   "file_extension": ".py",
   "mimetype": "text/x-python",
   "name": "python",
   "nbconvert_exporter": "python",
   "pygments_lexer": "ipython3",
   "version": "3.5.2"
  }
 },
 "nbformat": 4,
 "nbformat_minor": 2
}
