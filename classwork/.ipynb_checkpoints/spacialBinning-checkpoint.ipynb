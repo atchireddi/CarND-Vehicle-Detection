{
 "cells": [
  {
   "cell_type": "code",
   "execution_count": null,
   "metadata": {
    "collapsed": true
   },
   "outputs": [],
   "source": [
    "import numpy as np\n",
    "import cv2\n",
    "import matplotlib.pyplot as plt\n",
    "import matplotlib.image as mpimg"
   ]
  },
  {
   "cell_type": "code",
   "execution_count": null,
   "metadata": {
    "collapsed": true
   },
   "outputs": [],
   "source": [
    "\n",
    "# Function to generate feature vector given,\n",
    "# image, color space and new image size\n",
    "def bin_spatial(img, color_space='RGB', size=(32,32)):\n",
    "    \"\"\"\n",
    "        color_space flag is 3-letter all caps string like HSV, LUV\n",
    "    \"\"\"\n",
    "    \n",
    "    # convert image to new color space\n",
    "    if color_space == 'RGB':\n",
    "            feature_img = img.copy()\n",
    "    else:\n",
    "        if color_space == 'HSV':\n",
    "            feature_img = cv2.cvtColor(img, cv2.COLOR_RGB2HSV)\n",
    "        elif color_space == 'HLS':\n",
    "            feature_img = cv2.cvtColor(img, cv2.COLOR_RGB2HLS)\n",
    "        elif color_space == 'LUV':\n",
    "            feature_img = cv2.cvtColor(img, cv2.COLOR_RGB2LUV)\n",
    "        elif color_space == 'YUV':\n",
    "            feature_img = cv2.cvtColor(img, cv2.COLOR_RGB2YUV)\n",
    "        elif color_space == 'YCrCb':\n",
    "            feature_img = cv2.cvtColor(img, cv2.COLOR_RGB2YCrCb)\n",
    "            \n",
    "    # resize image.\n",
    "    img_resize = cv2.resize(feature_img, size)\n",
    "    \n",
    "    features = img_resize.ravel()\n",
    "    \n",
    "    return(features)\n",
    "    \n",
    "    "
   ]
  },
  {
   "cell_type": "code",
   "execution_count": null,
   "metadata": {
    "collapsed": true
   },
   "outputs": [],
   "source": [
    "feature_vec = bin_spatial(image, color_space='RGB', size=(32,32))"
   ]
  },
  {
   "cell_type": "code",
   "execution_count": null,
   "metadata": {
    "collapsed": true
   },
   "outputs": [],
   "source": []
  }
 ],
 "metadata": {
  "anaconda-cloud": {},
  "kernelspec": {
   "display_name": "Python [default]",
   "language": "python",
   "name": "python3"
  },
  "language_info": {
   "codemirror_mode": {
    "name": "ipython",
    "version": 3
   },
   "file_extension": ".py",
   "mimetype": "text/x-python",
   "name": "python",
   "nbconvert_exporter": "python",
   "pygments_lexer": "ipython3",
   "version": "3.5.2"
  }
 },
 "nbformat": 4,
 "nbformat_minor": 2
}
