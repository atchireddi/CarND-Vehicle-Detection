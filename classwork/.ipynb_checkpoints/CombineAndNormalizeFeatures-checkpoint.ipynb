{
 "cells": [
  {
   "cell_type": "code",
   "execution_count": null,
   "metadata": {
    "collapsed": true
   },
   "outputs": [],
   "source": [
    "\n",
    "import numpy as np\n",
    "import cv2\n",
    "import matplotlib.pyplot as plt\n",
    "import matplotlib.image as mpimg\n",
    "from sklearn.preprocessing import StandardScaler\n",
    "import glob\n"
   ]
  },
  {
   "cell_type": "code",
   "execution_count": null,
   "metadata": {
    "collapsed": true
   },
   "outputs": [],
   "source": [
    "\n",
    "# Define a function to compute binned color features\n",
    "def bin_spatial(img, color_space='RGB' size=(32,32)):\n",
    "    \n",
    "     # convert image to new color space\n",
    "    if color_space == 'RGB':\n",
    "            feature_img = img.copy()\n",
    "    else:\n",
    "        if color_space == 'HSV':\n",
    "            feature_img = cv2.cvtColor(img, cv2.COLOR_RGB2HSV)\n",
    "        elif color_space == 'HLS':\n",
    "            feature_img = cv2.cvtColor(img, cv2.COLOR_RGB2HLS)\n",
    "        elif color_space == 'LUV':\n",
    "            feature_img = cv2.cvtColor(img, cv2.COLOR_RGB2LUV)\n",
    "        elif color_space == 'YUV':\n",
    "            feature_img = cv2.cvtColor(img, cv2.COLOR_RGB2YUV)\n",
    "        elif color_space == 'YCrCb':\n",
    "            feature_img = cv2.cvtColor(img, cv2.COLOR_RGB2YCrCb)\n",
    "            \n",
    "    # resize image.\n",
    "    img_resize = cv2.resize(feature_img, size)\n",
    "    \n",
    "    # Use cv2.resize().ravel() to create the feature vector\n",
    "    features = cv2.resize(img, size).ravel()\n",
    "    \n",
    "    # Return the feature vector\n",
    "    return features\n",
    "\n",
    "# Define a function to compute color histogram features\n",
    "def color_hist(img, nbins=32, bins_range=(0, 256)):\n",
    "    \n",
    "    # Compute the histogram of the color channels separately\n",
    "    channel1_hist = np.histogram(img[:,:,0], bins=nbins, range=bins_range)\n",
    "    channel2_hist = np.histogram(img[:,:,1], bins=nbins, range=bins_range)\n",
    "    channel3_hist = np.histogram(img[:,:,2], bins=nbins, range=bins_range)\n",
    "    \n",
    "    # Concatenate the histograms into a single feature vector\n",
    "    hist_features = np.concatenate((channel1_hist[0], channel2_hist[0], channel3_hist[0]))\n",
    "    \n",
    "    # Return features\n",
    "    return hist_features\n",
    "\n",
    "# Define a function to extract features from a list of images\n",
    "# have this function call bin_spatial() and color_hist()\n",
    "def extract_features(imgs, cspace='RGB', spatial_size=(32,32),\n",
    "                        hist_bins=32, hist_range=(0, 256)):\n",
    "    \n",
    "    # Create a list to append feature vectors.\n",
    "    features = []\n",
    "    \n",
    "    # Iterate through the list of images\n",
    "    for img in imgs:\n",
    "        image = mpimg.imread(img)\n",
    "        \n",
    "        # spatial binning\n",
    "        bin_features = bin_spatial(image, cspace, spatial_size)\n",
    "        \n",
    "        # color histogram\n",
    "        color_features = color_hist(image, hist_bins, hist_range)\n",
    "\n",
    "        # Append new features\n",
    "        features.append(np.concatenate((bin_features,color_features)))\n",
    "        \n",
    "    # Return features\n",
    "    return features\n",
    "\n"
   ]
  },
  {
   "cell_type": "code",
   "execution_count": null,
   "metadata": {
    "collapsed": true
   },
   "outputs": [],
   "source": [
    "\n",
    "images = glob.glob('*.jpg')\n",
    "cars = []\n",
    "notcars = []\n",
    "\n",
    "for image in images:\n",
    "    if 'image' in image or 'extra' in image:\n",
    "        notcars.append(image)\n",
    "    else:\n",
    "        cars.append(image)\n",
    "        \n",
    "        \n",
    "car_features = extract_features(cars, cspace='RGB', spatial-size=(32,32),\n",
    "                               hist_bins=32, hist_range=(0, 256))\n",
    "\n",
    "notcar_features = extract_features(notcars, cspace='RGB', spatial-size=(32, 32),\n",
    "                                  bist_bins=32, hist_rnage=(0, 256))\n",
    "\n",
    "if len(car_features) > 0:\n",
    "    \n",
    "    # Create an array stack of features vectors\n",
    "    X = np.vstack((car_features, notcar_features)).astype(np.float64)   # np.vstack takes float64\n",
    "    \n",
    "    # Fit a per-column scaler\n",
    "    X_scaler = StandardScaler().fit(X)\n",
    "    \n",
    "    # Apply Scaler to X\n",
    "    scaled_X = X_scaler.transform(X)\n",
    "    \n",
    "    car_ind = np.random.randint(0, len(cars))\n",
    "    \n",
    "    # Plot an example of raw and scaled features\n",
    "    fig = plt.figure(figsize=(12,4))\n",
    "    \n",
    "    plt.subplot(131)\n",
    "    plt.imshow(mpimg.imread(cars[car_ind]))\n",
    "    plt.title('Original Image')\n",
    "    \n",
    "    plt.subplot(132)\n",
    "    plt.plot(X[car_ind])\n",
    "    plt.title('Raw Features')\n",
    "    \n",
    "    plt.subplot(133)\n",
    "    plt.plot(scaled_X[car_ind])\n",
    "    plt.title('Normalized Features')\n",
    "    \n",
    "    fig.tight_layout()\n",
    "else:\n",
    "    print('Your function only return empty feature vectors...')"
   ]
  },
  {
   "cell_type": "code",
   "execution_count": null,
   "metadata": {
    "collapsed": true
   },
   "outputs": [],
   "source": []
  },
  {
   "cell_type": "code",
   "execution_count": null,
   "metadata": {
    "collapsed": true
   },
   "outputs": [],
   "source": []
  }
 ],
 "metadata": {
  "kernelspec": {
   "display_name": "Python [default]",
   "language": "python",
   "name": "python3"
  },
  "language_info": {
   "codemirror_mode": {
    "name": "ipython",
    "version": 3
   },
   "file_extension": ".py",
   "mimetype": "text/x-python",
   "name": "python",
   "nbconvert_exporter": "python",
   "pygments_lexer": "ipython3",
   "version": "3.5.2"
  }
 },
 "nbformat": 4,
 "nbformat_minor": 2
}
