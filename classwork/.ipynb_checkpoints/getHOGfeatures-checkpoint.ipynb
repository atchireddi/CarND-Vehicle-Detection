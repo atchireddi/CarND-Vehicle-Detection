{
 "cells": [
  {
   "cell_type": "code",
   "execution_count": null,
   "metadata": {
    "collapsed": true
   },
   "outputs": [],
   "source": [
    "import matplotlib.image as mpimg\n",
    "import matplotlib.pyplot as plt\n",
    "import numpy as np\n",
    "import cv2\n",
    "import glob\n",
    "from skimage.feature import hog"
   ]
  },
  {
   "cell_type": "code",
   "execution_count": null,
   "metadata": {
    "collapsed": true
   },
   "outputs": [],
   "source": [
    "\n",
    "# Read in vehicles and no-vehicles\n",
    "images = glob.glob('*.jpg')\n",
    "cars = []\n",
    "notcars = []\n",
    "\n",
    "for image in images:\n",
    "    if 'image' in image or 'extra' in image:\n",
    "        notcars.append(image)\n",
    "    else:\n",
    "        cars.append(image)\n",
    "\n"
   ]
  },
  {
   "cell_type": "code",
   "execution_count": null,
   "metadata": {
    "collapsed": true
   },
   "outputs": [],
   "source": [
    "\n",
    "# Define a function to return HOG features and visualization\n",
    "def get_hog_features(img, orient, pix_per_cell, cell_per_block, vis=False, feature_vec=True):\n",
    "    \n",
    "    if vis == True:\n",
    "        \n",
    "        # use skimage.hog() to get both fatures and a visualization\n",
    "        features, hog_image = hog(img, orientations=orient, pix_per_cell=pix_per_cell, \n",
    "                                  cell_per_block=cell_per_block, visualise=True,feature_vector=feature_vec)\n",
    "        return features, hog_image\n",
    "    else :\n",
    "        \n",
    "        # use skimage.hog() to get features only\n",
    "        features = hog(img, orientations=orient, pix_per_cell=pix_per_cell,\n",
    "                      cell_per_block=cell_per_block, visualise=vis, feature_vector=feature_vec)\n",
    "        return features\n",
    "    \n"
   ]
  },
  {
   "cell_type": "code",
   "execution_count": null,
   "metadata": {
    "collapsed": true
   },
   "outputs": [],
   "source": [
    "\n",
    "# Generate a random index to look at a car image\n",
    "ind = np.random.randint(0, len(cars))\n",
    "\n",
    "# Read in the image\n",
    "image = mpimg.imread(cars[ind])\n",
    "gray=cv2.cvtColor(image, cv2.COLOR_RGB2GRAY)\n",
    "\n",
    "# Define HOG Parameters\n",
    "orient = 9\n",
    "pix_per_cell = 8\n",
    "cell_per_block= 2\n",
    "\n",
    "# call our function with vis=True to see an image output\n",
    "features, hog_image = get_hog_features(gray, orient, \n",
    "                                      pix_per_cell, cell_per_block,\n",
    "                                      vis=True, feature_vec=False)\n",
    "\n",
    "# plot the example\n",
    "fig = plt.figure()\n",
    "plt.subplot(121)\n",
    "plt.imshow(image, cmap='gray')\n",
    "plt.title('Example Car Image')\n",
    "\n",
    "plt.subplot(122)\n",
    "plt.imshow(hog_image, cmap='gray')\n",
    "plt.title('HOG Visualization')\n",
    "\n",
    "\n",
    "\n"
   ]
  },
  {
   "cell_type": "code",
   "execution_count": null,
   "metadata": {
    "collapsed": true
   },
   "outputs": [],
   "source": []
  }
 ],
 "metadata": {
  "anaconda-cloud": {},
  "kernelspec": {
   "display_name": "Python [default]",
   "language": "python",
   "name": "python3"
  },
  "language_info": {
   "codemirror_mode": {
    "name": "ipython",
    "version": 3
   },
   "file_extension": ".py",
   "mimetype": "text/x-python",
   "name": "python",
   "nbconvert_exporter": "python",
   "pygments_lexer": "ipython3",
   "version": "3.5.2"
  }
 },
 "nbformat": 4,
 "nbformat_minor": 2
}
