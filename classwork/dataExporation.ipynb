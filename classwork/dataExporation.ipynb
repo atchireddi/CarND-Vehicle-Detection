{
 "cells": [
  {
   "cell_type": "code",
   "execution_count": null,
   "metadata": {
    "collapsed": true
   },
   "outputs": [],
   "source": [
    "\n",
    "import matplotlib.image as mpimg\n",
    "import matplotlib.pyplot as plt\n",
    "import numpy as np\n",
    "import cv2\n",
    "import glob\n",
    "\n",
    "from skimage.feature import hog\n",
    "from skimage import color, exposure\n"
   ]
  },
  {
   "cell_type": "code",
   "execution_count": null,
   "metadata": {
    "collapsed": true
   },
   "outputs": [],
   "source": [
    "\n",
    "# Images are divided up into vehicles and non-vehicles\n",
    "\n",
    "images = glob.glob('*.jpg')\n",
    "cars = []\n",
    "notcars = []\n",
    "\n",
    "for image in images:\n",
    "    if 'image' in image or 'extra' in image:\n",
    "        notcars.append(image)\n",
    "    else:\n",
    "        cars.append(image)\n",
    "        \n"
   ]
  },
  {
   "cell_type": "code",
   "execution_count": null,
   "metadata": {
    "collapsed": true
   },
   "outputs": [],
   "source": [
    "\n",
    "# Define a function to return some characteristics of the dataset\n",
    "def data_look(car_list, notcar_list):\n",
    "    \n",
    "    data_dict = {}\n",
    "    \n",
    "    # Define a key in data_dict \"n_cars\" and store the number of car images\n",
    "    data_dict[\"n_cars\"] = len(cars)\n",
    "    \n",
    "    # Define a key 'n_notcars\" and store the number of notcar images\n",
    "    data_dict[\"n_notcars\"] = len(notcars)\n",
    "    \n",
    "    # Read in a test_image, either car or notcar\n",
    "    # Define a key \"image_shape\" and store the test image shape 3-tuple\n",
    "    img = mpimg.imread(cars[0])\n",
    "    data_dict[\"image_shape\"] = img.shape\n",
    "    \n",
    "    #  Define a key \"data_type\" and store the data type of the test image.\n",
    "    data_dict[\"data_type\"] = img.dtype\n",
    "\n",
    "    # Return dictionary\n",
    "    return data_dict"
   ]
  },
  {
   "cell_type": "code",
   "execution_count": null,
   "metadata": {
    "collapsed": true
   },
   "outputs": [],
   "source": [
    "\n",
    "data_info = data_look(cars, notcars)\n",
    "\n",
    "print('Your function returned a count of',\n",
    "       data_info[\"n_cars\"], 'cars and ', \n",
    "       data_info[\"n_notcars\"], 'non-cars')\n",
    "print(' of size: ', data-info[\"image_shape\"], ' and data type: ',\n",
    "      data_info[\"data_type\"])\n",
    "\n",
    "# Just for fun choose random car/ not-car indices and plot example images\n",
    "car_ind = np.random.randint(0, len(cars))\n",
    "notcar_ind = np.random.randint(0, len(notcars))\n",
    "\n",
    "# Read in car /not-car images\n",
    "car_img = mpimg.imread(cars[car_ind])\n",
    "notcar_img = mpimg.imread(notcars[notcar_ind])\n",
    "\n",
    "# Plot the examples\n",
    "fig = plt.figure()\n",
    "\n",
    "plt.subplot(121)\n",
    "plt.imshow(car_image)\n",
    "\n",
    "plt.title('Example Car Image')\n",
    "plt.subplot(122)\n",
    "plt.imshow(notcar_img)\n",
    "plt.title('Example Not-Car Image')"
   ]
  }
 ],
 "metadata": {
  "anaconda-cloud": {},
  "kernelspec": {
   "display_name": "Python [default]",
   "language": "python",
   "name": "python3"
  },
  "language_info": {
   "codemirror_mode": {
    "name": "ipython",
    "version": 3
   },
   "file_extension": ".py",
   "mimetype": "text/x-python",
   "name": "python",
   "nbconvert_exporter": "python",
   "pygments_lexer": "ipython3",
   "version": "3.5.2"
  }
 },
 "nbformat": 4,
 "nbformat_minor": 2
}
